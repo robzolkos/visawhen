{
 "cells": [
  {
   "cell_type": "code",
   "execution_count": null,
   "metadata": {},
   "outputs": [],
   "source": [
    "import requests\n",
    "from requests_html import HTMLSession\n",
    "import arrow\n",
    "from pathlib import Path\n",
    "from dask.distributed import Client, LocalCluster\n",
    "import dns.resolver\n",
    "import os\n",
    "\n",
    "CI = True  # env var doesn't work for some reason\n",
    "\n",
    "cluster = LocalCluster(\n",
    "    n_workers=1 if CI else 10, threads_per_worker=1, processes=not CI\n",
    ")\n",
    "client = Client(cluster)  # start local workers as processes\n",
    "\n",
    "session = HTMLSession()\n",
    "CWD = Path.cwd()\n",
    "PDFS_DIR = CWD / \"pdfs\"\n",
    "PDFS_DIR.mkdir(exist_ok=True)"
   ]
  },
  {
   "cell_type": "code",
   "execution_count": null,
   "metadata": {},
   "outputs": [],
   "source": [
    "# manually resolving domain name cause of https://github.community/t/cannot-resolve-travel-state-gov-hostname-in-github-actions-with-default-dns-server/180625\n",
    "resolver = dns.resolver.Resolver()\n",
    "resolver.nameservers = [\"1.1.1.1\", \"8.8.8.8\"]\n",
    "ip_address = resolver.resolve(\"travel.state.gov\", \"A\")[0].to_text()\n",
    "\n",
    "pdf_list_r = session.get(\n",
    "    f\"https://{ip_address}/content/travel/en/legal/visa-law0/visa-statistics/immigrant-visa-statistics/monthly-immigrant-visa-issuances.html\",\n",
    "    headers={\"Host\": \"travel.state.gov\"},\n",
    "    verify=False,\n",
    ")\n",
    "pdf_list_content = pdf_list_r.html.find(\".contentbody\", first=True)\n",
    "pdf_links = [\n",
    "    link for link in pdf_list_content.find(\"a\") if link.attrs[\"href\"].endswith(\".pdf\")\n",
    "]\n",
    "niv_pdf_list_r = session.get(\n",
    "    f\"https://{ip_address}/content/travel/en/legal/visa-law0/visa-statistics/nonimmigrant-visa-statistics/monthly-nonimmigrant-visa-issuances.html\",\n",
    "    headers={\"Host\": \"travel.state.gov\"},\n",
    "    verify=False,\n",
    ")\n",
    "niv_pdf_list_content = niv_pdf_list_r.html.find(\".contentbody\", first=True)\n",
    "niv_pdf_links = [\n",
    "    link\n",
    "    for link in niv_pdf_list_content.find(\"a\")\n",
    "    if link.attrs[\"href\"].endswith(\".pdf\")\n",
    "]"
   ]
  },
  {
   "cell_type": "code",
   "execution_count": null,
   "metadata": {},
   "outputs": [],
   "source": [
    "urls_by_month = {}\n",
    "for link in [*pdf_links, *niv_pdf_links]:\n",
    "    link_text = link.text.replace(\" - \", \" - \").replace(\" – \", \" - \")\n",
    "\n",
    "    month, _, category = link_text.partition(\" - \")\n",
    "    category = category.replace(\"Visa Cass\", \"Visa Class\")  # lol\n",
    "\n",
    "    if \"NIV Issuances by Post and Visa Class\" in category:\n",
    "        urls_by_month[\"NIV-\" + arrow.get(month, \"MMMM YYYY\").format(\"YYYY-MM\")] = list(\n",
    "            link.absolute_links\n",
    "        )[0]\n",
    "    elif \"IV Issuances by Post and Visa Class\" in category:\n",
    "        urls_by_month[\"IV-\" + arrow.get(month, \"MMMM YYYY\").format(\"YYYY-MM\")] = list(\n",
    "            link.absolute_links\n",
    "        )[0]"
   ]
  },
  {
   "cell_type": "code",
   "execution_count": null,
   "metadata": {},
   "outputs": [],
   "source": [
    "from itertools import product\n",
    "\n",
    "for kind, month in product(\n",
    "    [\"NIV\", \"IV\"], arrow.Arrow.range(\"month\", arrow.get(\"2017-03-01\"), arrow.get())\n",
    "):\n",
    "    outfile = PDFS_DIR / f\"{kind}-{month.format('YYYY-MM')}.pdf\"\n",
    "    if outfile.exists():\n",
    "        print(f\"skippy {outfile}\")\n",
    "        continue\n",
    "    print(f\"doin {outfile}\")\n",
    "    try:\n",
    "        url = urls_by_month[f\"{kind}-{month.format('YYYY-MM')}\"]\n",
    "    except KeyError:\n",
    "        print(f\"but no {outfile}!\")\n",
    "        continue\n",
    "    r = requests.get(\n",
    "        url.replace(\"travel.state.gov\", ip_address),\n",
    "        headers={\"Host\": \"travel.state.gov\"},\n",
    "        verify=False,\n",
    "    )\n",
    "    outfile.write_bytes(r.content)"
   ]
  },
  {
   "cell_type": "code",
   "execution_count": null,
   "metadata": {
    "tags": []
   },
   "outputs": [],
   "source": [
    "import camelot\n",
    "import pandas as pd\n",
    "import PyPDF2\n",
    "\n",
    "client.restart()\n",
    "\n",
    "\n",
    "def process_path(path: Path, page_no: int):\n",
    "    parsed = camelot.read_pdf(str(path), pages=str(page_no))\n",
    "    if len(parsed) == 0:\n",
    "        return\n",
    "    table = parsed[0].df\n",
    "    table.columns = [\"Post\", \"Visa Class\", \"Issuances\"]\n",
    "    table[\"Issuances\"] = pd.to_numeric(\n",
    "        table[\"Issuances\"].replace(r\"\\D\", \"\", regex=True),\n",
    "        errors=\"coerce\",\n",
    "        downcast=\"integer\",\n",
    "    )\n",
    "    table = table.replace(\"\", pd.NA).dropna().reset_index(drop=True)\n",
    "    table[\"Post\"] = pd.Series(table[\"Post\"], dtype=\"string\")\n",
    "    table[\"Visa Class\"] = pd.Series(table[\"Visa Class\"], dtype=\"string\")\n",
    "    table[\"Month\"] = pd.Timestamp(\n",
    "        arrow.get(\n",
    "            path.name.replace(\"NIV-\", \"\").replace(\"IV-\", \"\").replace(\".pdf\", \"\")\n",
    "        ).format(\"YYYYMMDD\")\n",
    "    )\n",
    "    table[\"Issuances\"] = table[\"Issuances\"].astype(\"uint16\")\n",
    "    return table\n",
    "\n",
    "\n",
    "futures = []\n",
    "for path in PDFS_DIR.glob(\"*.pdf\"):\n",
    "    page_count = PyPDF2.PdfFileReader(path.open(\"rb\")).getNumPages()\n",
    "    for page_no in range(1, page_count + 1):\n",
    "        futures.append(client.submit(process_path, path, page_no))\n",
    "\n",
    "results = [result for result in client.gather(futures) if result is not None]\n",
    "all_months = pd.concat(results).sort_values(\"Month\").reset_index(drop=True)"
   ]
  },
  {
   "cell_type": "code",
   "execution_count": null,
   "metadata": {},
   "outputs": [],
   "source": [
    "# cluster.scale(0)\n",
    "cluster"
   ]
  },
  {
   "cell_type": "code",
   "execution_count": null,
   "metadata": {},
   "outputs": [],
   "source": [
    "all_months[all_months[\"Issuances\"] > 1000].head()"
   ]
  },
  {
   "cell_type": "code",
   "execution_count": null,
   "metadata": {},
   "outputs": [],
   "source": [
    "all_months.to_pickle(\"all_months.pkl\")"
   ]
  },
  {
   "cell_type": "code",
   "execution_count": null,
   "metadata": {},
   "outputs": [],
   "source": [
    "bud_marriage = (\n",
    "    all_months.loc[all_months[\"Post\"] == \"Budapest\"]\n",
    "    .loc[all_months[\"Visa Class\"].isin([\"CR1\", \"IR1\"])]\n",
    "    .groupby(by=all_months[\"Month\"])\n",
    "    .sum()\n",
    ")\n",
    "bud_marriage"
   ]
  }
 ],
 "metadata": {
  "interpreter": {
   "hash": "eafa1fee82ed09f6a9110518f76de6de71462f56178c4d5fe4b35b7a9241d2b7"
  },
  "kernelspec": {
   "display_name": "Python 3.9.4 64-bit ('.venv': poetry)",
   "name": "python3"
  },
  "language_info": {
   "codemirror_mode": {
    "name": "ipython",
    "version": 3
   },
   "file_extension": ".py",
   "mimetype": "text/x-python",
   "name": "python",
   "nbconvert_exporter": "python",
   "pygments_lexer": "ipython3",
   "version": "3.10.4"
  },
  "orig_nbformat": 4
 },
 "nbformat": 4,
 "nbformat_minor": 2
}
