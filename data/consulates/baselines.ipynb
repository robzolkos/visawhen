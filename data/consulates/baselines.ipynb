{
 "cells": [
  {
   "cell_type": "code",
   "execution_count": null,
   "metadata": {},
   "outputs": [],
   "source": [
    "from __future__ import annotations\n",
    "\n",
    "import re\n",
    "import sqlite3\n",
    "\n",
    "import pandas as pd\n",
    "\n",
    "conn = sqlite3.connect(\"consulates.sqlite\")"
   ]
  },
  {
   "cell_type": "code",
   "execution_count": null,
   "metadata": {},
   "outputs": [],
   "source": [
    "all_months = pd.read_pickle(\"all_months.pkl\")\n",
    "DATA_START_DATE = all_months[\"Month\"].min()\n",
    "DATA_END_DATE = all_months[\"Month\"].max()\n",
    "COVID_START_DATE = pd.Timestamp(\"20200301\")\n",
    "NORMAL_MONTHS = pd.date_range(\n",
    "    start=DATA_START_DATE, end=COVID_START_DATE, freq=\"MS\", name=\"Month\", closed=\"left\"\n",
    ")\n",
    "COVID_MONTHS = pd.date_range(\n",
    "    start=COVID_START_DATE, end=DATA_END_DATE, freq=\"MS\", name=\"Month\"\n",
    ")\n",
    "NORMAL_MONTHS, COVID_MONTHS"
   ]
  },
  {
   "cell_type": "code",
   "execution_count": null,
   "metadata": {},
   "outputs": [],
   "source": [
    "# fmt:off\n",
    "all_months[\"Visa Class\"] = all_months[\"Visa Class\"].replace(\n",
    "    to_replace={\n",
    "        \"B1\": \"B1/B2\",\n",
    "        \"B2\": \"B1/B2\",\n",
    "\n",
    "        \"BBBCC\": \"BBBCC/BBBCV\",\n",
    "        \"BBBCV\": \"BBBCC/BBBCV\",\n",
    "\n",
    "        # conditionals based on https://travel.state.gov/content/dam/visas/Statistics/Immigrant-Statistics/MonthlyIVIssuances/Immigrant%20Visa%20Symbols.pdf\n",
    "        \"CR1\": \"CR1/IR1\",\n",
    "        \"CR2\": \"CR2/IR2\",\n",
    "        \"IR1\": \"CR1/IR1\",\n",
    "        \"IR2\": \"CR2/IR2\",\n",
    "\n",
    "        \"CX1\": \"CX1/FX1\",\n",
    "        \"CX2\": \"CX2/FX2\",\n",
    "        \"CX3\": \"CX3/FX3\",\n",
    "        \"FX1\": \"CX1/FX1\",\n",
    "        \"FX2\": \"CX2/FX2\",\n",
    "        \"FX3\": \"CX3/FX3\",\n",
    "\n",
    "        \"C21\": \"C21/F21\",\n",
    "        \"C22\": \"C22/F22\",\n",
    "        \"C23\": \"C23/F23\",\n",
    "        \"C24\": \"C24/F24\",\n",
    "        \"C25\": \"C25/F25\",\n",
    "        \"F21\": \"C21/F21\",\n",
    "        \"F22\": \"C22/F22\",\n",
    "        \"F23\": \"C23/F23\",\n",
    "        \"F24\": \"C24/F24\",\n",
    "        \"F25\": \"C25/F25\",\n",
    "\n",
    "        \"C31\": \"C31/F31\",\n",
    "        \"C32\": \"C32/F32\",\n",
    "        \"C33\": \"C33/F33\",\n",
    "        \"F31\": \"C31/F31\",\n",
    "        \"F32\": \"C32/F32\",\n",
    "        \"F33\": \"C33/F33\",\n",
    "\n",
    "        \"CW1\": \"CW1/IW1\",\n",
    "        \"CW2\": \"CW2/IW2\",\n",
    "        \"IW1\": \"CW1/IW1\",\n",
    "        \"IW2\": \"CW2/IW2\",\n",
    "\n",
    "        \"E21\": \"E2\",\n",
    "        \"E22\": \"E2\",\n",
    "        \"E23\": \"E2\",\n",
    "        \"E2C\": \"E2\",\n",
    "\n",
    "        \"E31\": \"E3\",\n",
    "        \"E32\": \"E3\",\n",
    "        \"E33\": \"E3\",\n",
    "        \"E34\": \"E3\",\n",
    "        \"E35\": \"E3\",\n",
    "        \"E3D\": \"E3\",\n",
    "        \"E3P\": \"E3\",\n",
    "\n",
    "        \"AM\": \"AM1\",\n",
    "        \"BX\": \"BX1\",\n",
    "        \"C2A\": \"C2\",\n",
    "        \"CX\": \"C21/F21\",\n",
    "        \"DV\": \"DV1\",\n",
    "        \"E4\": \"SE1\",\n",
    "        \"EW\": \"EW3\",\n",
    "        \"F2A\": \"C21/F21\",\n",
    "        \"F2B\": \"C24/F24\",\n",
    "        \"F3\": \"C31/F31\",\n",
    "        \"F4\": \"F41\",\n",
    "        \"FX\": \"C21/F21\",\n",
    "        \"I5\": \"I51\",\n",
    "        \"IW\": \"CW1/IW1\",\n",
    "        \"SD\": \"SD1\",\n",
    "        \"SE\": \"SE1\",\n",
    "        \"SI\": \"SI1\",\n",
    "        \"SM\": \"SM1\",\n",
    "        \"SQ\": \"SQ1\",\n",
    "        \"SR\": \"SR1\",\n",
    "        \"SU\": \"U1\",\n",
    "    }\n",
    ")\n",
    "# fmt:on\n",
    "\n",
    "all_months[\"Post\"] = all_months[\"Post\"].replace(\n",
    "    to_replace={\n",
    "        \"AIT Taipei\": \"Taipei\",\n",
    "        \"Dar Es Salaam\": \"Dar es Salaam\",\n",
    "        \"Mumbai (Bombay)\": \"Mumbai\",\n",
    "        \"Guatemala\": \"Guatemala City\",\n",
    "        \"Panama\": \"Panama City\",\n",
    "        \"Kuwait\": \"Kuwait City\",\n",
    "        \"Port Au Prince\": \"Port-au-Prince\",\n",
    "        \"Port Of Spain\": \"Port of Spain\",\n",
    "        \"Rio De Janeiro\": \"Rio de Janeiro\",\n",
    "        \"Tijuana Tpf\": \"Tijuana\",\n",
    "        \"Chennai ( Madras)\": \"Chennai\",\n",
    "        \"Chennai (Madras)\": \"Chennai\",\n",
    "    }\n",
    ")\n",
    "all_months = all_months.groupby(\n",
    "    [\"Post\", \"Visa Class\", \"Month\"], as_index=False, sort=False\n",
    ")[\"Issuances\"].sum()\n",
    "all_months"
   ]
  },
  {
   "cell_type": "code",
   "execution_count": null,
   "metadata": {},
   "outputs": [],
   "source": [
    "def slugify(text: str) -> str:\n",
    "    text = text.strip().lower()\n",
    "    text = re.sub(r\"[\\s_]\", \"-\", text)\n",
    "    text = re.sub(r\"[^\\w-]\", \"\", text)\n",
    "    return text\n",
    "\n",
    "\n",
    "all_months[\"Post Slug\"] = all_months[\"Post\"].apply(slugify)\n",
    "all_months[\"Visa Class Slug\"] = all_months[\"Visa Class\"].apply(slugify)\n",
    "\n",
    "post_slugs = pd.DataFrame(\n",
    "    all_months[[\"Post Slug\", \"Post\"]].drop_duplicates().set_index(\"Post Slug\")\n",
    ")\n",
    "post_slugs.to_sql(\"post_slugs\", conn, if_exists=\"replace\")\n",
    "\n",
    "visa_slugs = pd.DataFrame(\n",
    "    all_months[[\"Visa Class Slug\", \"Visa Class\"]]\n",
    "    .drop_duplicates()\n",
    "    .set_index(\"Visa Class Slug\")\n",
    ")\n",
    "\n",
    "visa_descriptions_sheet_url = \"https://docs.google.com/spreadsheets/d/1GLtqb3PVXFriG7lanunfYJrpUE7_e0_L-PEN2spBQbY/export?format=csv\"\n",
    "\n",
    "visa_descriptions = pd.read_csv(visa_descriptions_sheet_url).set_index(\n",
    "    \"Visa Class Slug\"\n",
    ")\n",
    "\n",
    "visa_slugs = visa_slugs.join(visa_descriptions, on=\"Visa Class Slug\")\n",
    "visa_slugs.to_sql(\"visa_slugs\", conn, if_exists=\"replace\")"
   ]
  },
  {
   "cell_type": "code",
   "execution_count": null,
   "metadata": {
    "tags": []
   },
   "outputs": [],
   "source": [
    "def get_baseline(all_months: pd.DataFrame) -> pd.DataFrame:\n",
    "    all_months = all_months.set_index(\"Month\")\n",
    "    return all_months[[\"Issuances\"]].reindex(index=NORMAL_MONTHS, fill_value=0).mean()\n",
    "\n",
    "\n",
    "baselines = all_months.groupby([\"Post Slug\", \"Visa Class Slug\"], sort=False).apply(\n",
    "    get_baseline\n",
    ")\n",
    "baselines"
   ]
  },
  {
   "cell_type": "code",
   "execution_count": null,
   "metadata": {},
   "outputs": [],
   "source": [
    "all_months.loc[all_months[\"Post Slug\"] == \"guayaquil\"].loc[\n",
    "    all_months[\"Visa Class Slug\"] == \"f3\"\n",
    "]"
   ]
  },
  {
   "cell_type": "code",
   "execution_count": null,
   "metadata": {},
   "outputs": [],
   "source": [
    "baselines.loc[(\"budapest\", \"cr1ir1\")]"
   ]
  },
  {
   "cell_type": "code",
   "execution_count": null,
   "metadata": {},
   "outputs": [],
   "source": [
    "baselines.to_pickle(\"baselines.pkl\")\n",
    "baselines.to_sql(\"baselines\", conn, if_exists=\"replace\")"
   ]
  },
  {
   "cell_type": "code",
   "execution_count": null,
   "metadata": {
    "tags": []
   },
   "outputs": [],
   "source": [
    "def get_backlog(all_months: pd.DataFrame) -> pd.DataFrame:\n",
    "    all_months = all_months.reset_index()\n",
    "    key = tuple(all_months.loc[0, [\"Post Slug\", \"Visa Class Slug\"]])\n",
    "    baseline = baselines.loc[key][0]\n",
    "\n",
    "    all_months = all_months.set_index(\"Month\")\n",
    "\n",
    "    normal_months = all_months[[\"Issuances\"]].reindex(index=NORMAL_MONTHS, fill_value=0)\n",
    "\n",
    "    covid_months = all_months[[\"Issuances\"]].reindex(index=COVID_MONTHS, fill_value=0)\n",
    "    covid_months[\"Actual Progress\"] = covid_months[\"Issuances\"].cumsum()\n",
    "    covid_months[\"Expected Delta\"] = covid_months.index.month.map(\n",
    "        lambda month: normal_months.loc[normal_months.index.month == month][\n",
    "            \"Issuances\"\n",
    "        ].mean()\n",
    "    )\n",
    "    covid_months[\"Expected Progress\"] = covid_months[\"Expected Delta\"].cumsum()\n",
    "    covid_months[\"Backlog\"] = (\n",
    "        covid_months[\"Actual Progress\"] - covid_months[\"Expected Progress\"]\n",
    "    )\n",
    "    covid_months[\"Months Ahead\"] = covid_months[\"Backlog\"] / baseline\n",
    "    covid_months = covid_months.drop(columns=[\"Actual Progress\", \"Expected Progress\"])\n",
    "\n",
    "    return pd.concat([normal_months, covid_months])[\n",
    "        [\"Issuances\", \"Backlog\", \"Months Ahead\", \"Expected Delta\"]\n",
    "    ]\n",
    "\n",
    "\n",
    "backlogs = all_months.groupby([\"Post Slug\", \"Visa Class Slug\"], sort=False).apply(\n",
    "    get_backlog\n",
    ")"
   ]
  },
  {
   "cell_type": "code",
   "execution_count": null,
   "metadata": {},
   "outputs": [],
   "source": [
    "backlogs.to_pickle(\"backlogs.pkl\")"
   ]
  },
  {
   "cell_type": "code",
   "execution_count": null,
   "metadata": {},
   "outputs": [],
   "source": [
    "backlogs.to_sql(\"backlogs\", conn, if_exists=\"replace\")"
   ]
  }
 ],
 "metadata": {
  "kernelspec": {
   "display_name": "Python 3",
   "language": "python",
   "name": "python3"
  },
  "language_info": {
   "codemirror_mode": {
    "name": "ipython",
    "version": 3
   },
   "file_extension": ".py",
   "mimetype": "text/x-python",
   "name": "python",
   "nbconvert_exporter": "python",
   "pygments_lexer": "ipython3",
   "version": "3.11.0"
  },
  "orig_nbformat": 4,
  "vscode": {
   "interpreter": {
    "hash": "3fc8e620792d5135638d3db49a0d3147d53b169c2cef09c7399a737c8e55351b"
   }
  }
 },
 "nbformat": 4,
 "nbformat_minor": 2
}
